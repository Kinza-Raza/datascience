{
 "cells": [
  {
   "cell_type": "code",
   "execution_count": 1,
   "metadata": {},
   "outputs": [],
   "source": [
    "import requests\n",
    "from bs4 import BeautifulSoup"
   ]
  },
  {
   "cell_type": "code",
   "execution_count": 2,
   "metadata": {},
   "outputs": [
    {
     "data": {
      "text/plain": [
       "200"
      ]
     },
     "execution_count": 2,
     "metadata": {},
     "output_type": "execute_result"
    }
   ],
   "source": [
    "response = requests.get(\"http://www.espncricinfo.com/rankings/content/page/211271.html\")\n",
    "response.status_code"
   ]
  },
  {
   "cell_type": "code",
   "execution_count": 3,
   "metadata": {},
   "outputs": [],
   "source": [
    "content = response.content\n",
    "# content"
   ]
  },
  {
   "cell_type": "code",
   "execution_count": 4,
   "metadata": {},
   "outputs": [],
   "source": [
    "# response.json()"
   ]
  },
  {
   "cell_type": "code",
   "execution_count": 5,
   "metadata": {},
   "outputs": [],
   "source": [
    "parser = BeautifulSoup(content,\"html.parser\")"
   ]
  },
  {
   "cell_type": "code",
   "execution_count": 6,
   "metadata": {},
   "outputs": [
    {
     "data": {
      "text/plain": [
       "'ICC Cricket Rankings - Current ICC Rankings for Tests, ODIs, T20 Cricket | ESPNcricinfo.com'"
      ]
     },
     "execution_count": 6,
     "metadata": {},
     "output_type": "execute_result"
    }
   ],
   "source": [
    "parser.find_all(\"head\")[0].title.text"
   ]
  },
  {
   "cell_type": "code",
   "execution_count": 7,
   "metadata": {},
   "outputs": [
    {
     "data": {
      "text/plain": [
       "'ICC Cricket Rankings - Current ICC Rankings for Tests, ODIs, T20 Cricket | ESPNcricinfo.com'"
      ]
     },
     "execution_count": 7,
     "metadata": {},
     "output_type": "execute_result"
    }
   ],
   "source": [
    "parser.head.title.text"
   ]
  },
  {
   "cell_type": "code",
   "execution_count": 8,
   "metadata": {},
   "outputs": [
    {
     "data": {
      "text/plain": [
       "'ICC Cricket Rankings - Current ICC Rankings for Tests, ODIs, T20 Cricket | ESPNcricinfo.com'"
      ]
     },
     "execution_count": 8,
     "metadata": {},
     "output_type": "execute_result"
    }
   ],
   "source": [
    "parser.select(\"head\")[0].title.text"
   ]
  },
  {
   "cell_type": "code",
   "execution_count": 9,
   "metadata": {},
   "outputs": [
    {
     "data": {
      "text/plain": [
       "'02 October 2019'"
      ]
     },
     "execution_count": 9,
     "metadata": {},
     "output_type": "execute_result"
    }
   ],
   "source": [
    "parser.select(\"caption\")[1].text"
   ]
  },
  {
   "cell_type": "code",
   "execution_count": 10,
   "metadata": {},
   "outputs": [],
   "source": [
    "data = parser.find_all(\"td\", class_ = \"left\")"
   ]
  },
  {
   "cell_type": "code",
   "execution_count": 11,
   "metadata": {},
   "outputs": [
    {
     "data": {
      "text/plain": [
       "'27'"
      ]
     },
     "execution_count": 11,
     "metadata": {},
     "output_type": "execute_result"
    }
   ],
   "source": [
    "parser.find_all(\"tr\")[7].find_all(\"td\")[2].text"
   ]
  },
  {
   "cell_type": "code",
   "execution_count": 12,
   "metadata": {},
   "outputs": [
    {
     "data": {
      "text/plain": [
       "[<h3>ICC Test Championship</h3>,\n",
       " <h3>ICC ODI Championship</h3>,\n",
       " <h3>ICC Twenty20 Rankings</h3>,\n",
       " <h3>ICC Women's ODI Team Rankings</h3>,\n",
       " <h3>ICC Women's T20 Team Rankings</h3>]"
      ]
     },
     "execution_count": 12,
     "metadata": {},
     "output_type": "execute_result"
    }
   ],
   "source": [
    "cric_format = parser.find_all(\"div\", class_ = \"ciPhotoContainer\")[0].select(\"h3\")\n",
    "cric_format"
   ]
  },
  {
   "cell_type": "code",
   "execution_count": 13,
   "metadata": {},
   "outputs": [
    {
     "data": {
      "text/plain": [
       "<table class=\"StoryengineTable\">\n",
       "<caption>15 September 2019</caption>\n",
       "<tr class=\"head\">\n",
       "<th class=\"left\">Pos</th>\n",
       "<th class=\"left\">Team</th>\n",
       "<th class=\"left\">Matches</th>\n",
       "<th class=\"left\">Points</th>\n",
       "<th class=\"left\">Rating</th>\n",
       "</tr>\n",
       "<tr>\n",
       "<td class=\"left\">1</td>\n",
       "<td class=\"left\">India</td>\n",
       "<td class=\"left\">35</td>\n",
       "<td class=\"left\">4027</td>\n",
       "<td class=\"left\">115</td>\n",
       "</tr>\n",
       "<tr>\n",
       "<td class=\"left\">2</td>\n",
       "<td class=\"left\">New Zealand</td>\n",
       "<td class=\"left\">26</td>\n",
       "<td class=\"left\">2829</td>\n",
       "<td class=\"left\">109</td>\n",
       "</tr>\n",
       "<tr>\n",
       "<td class=\"left\">3</td>\n",
       "<td class=\"left\">South Africa</td>\n",
       "<td class=\"left\">27</td>\n",
       "<td class=\"left\">2917</td>\n",
       "<td class=\"left\">108</td>\n",
       "</tr>\n",
       "<tr>\n",
       "<td class=\"left\">4</td>\n",
       "<td class=\"left\">England</td>\n",
       "<td class=\"left\">42</td>\n",
       "<td class=\"left\">4366</td>\n",
       "<td class=\"left\">104</td>\n",
       "</tr>\n",
       "<tr>\n",
       "<td class=\"left\">5</td>\n",
       "<td class=\"left\">Australia</td>\n",
       "<td class=\"left\">33</td>\n",
       "<td class=\"left\">3270</td>\n",
       "<td class=\"left\">99</td>\n",
       "</tr>\n",
       "<tr>\n",
       "<td class=\"left\">6</td>\n",
       "<td class=\"left\">Sri Lanka</td>\n",
       "<td class=\"left\">40</td>\n",
       "<td class=\"left\">3795</td>\n",
       "<td class=\"left\">95</td>\n",
       "</tr>\n",
       "<tr>\n",
       "<td class=\"left\">7</td>\n",
       "<td class=\"left\">Pakistan</td>\n",
       "<td class=\"left\">27</td>\n",
       "<td class=\"left\">2263</td>\n",
       "<td class=\"left\">84</td>\n",
       "</tr>\n",
       "<tr>\n",
       "<td class=\"left\">8</td>\n",
       "<td class=\"left\">West Indies</td>\n",
       "<td class=\"left\">32</td>\n",
       "<td class=\"left\">2570</td>\n",
       "<td class=\"left\">80</td>\n",
       "</tr>\n",
       "<tr>\n",
       "<td class=\"left\">9</td>\n",
       "<td class=\"left\">Bangladesh</td>\n",
       "<td class=\"left\">23</td>\n",
       "<td class=\"left\">1413</td>\n",
       "<td class=\"left\">61</td>\n",
       "</tr>\n",
       "<tr>\n",
       "<td class=\"left\">10</td>\n",
       "<td class=\"left\">Afghanistan</td>\n",
       "<td class=\"left\">3</td>\n",
       "<td class=\"left\">165</td>\n",
       "<td class=\"left\">55</td>\n",
       "</tr>\n",
       "<tr>\n",
       "<td class=\"left\">11</td>\n",
       "<td class=\"left\">Zimbabwe</td>\n",
       "<td class=\"left\">9</td>\n",
       "<td class=\"left\">140</td>\n",
       "<td class=\"left\">16</td>\n",
       "</tr>\n",
       "<tr>\n",
       "<td class=\"left\">12</td>\n",
       "<td class=\"left\">Ireland</td>\n",
       "<td class=\"left\">3</td>\n",
       "<td class=\"left\">0</td>\n",
       "<td class=\"left\">0</td>\n",
       "</tr>\n",
       "</table>"
      ]
     },
     "execution_count": 13,
     "metadata": {},
     "output_type": "execute_result"
    }
   ],
   "source": [
    "ranking = parser.find_all(\"table\", class_ = \"StoryengineTable\")\n",
    "ranking[0]"
   ]
  },
  {
   "cell_type": "code",
   "execution_count": 14,
   "metadata": {},
   "outputs": [
    {
     "name": "stdout",
     "output_type": "stream",
     "text": [
      "ICC Test Championship\n",
      "\n",
      "15 September 2019\n",
      "Pos                 Team                Matches             Points              Rating              \n",
      "1                   India               35                  4027                115                 \n",
      "2                   New Zealand         26                  2829                109                 \n",
      "3                   South Africa        27                  2917                108                 \n",
      "4                   England             42                  4366                104                 \n",
      "5                   Australia           33                  3270                99                  \n",
      "6                   Sri Lanka           40                  3795                95                  \n",
      "7                   Pakistan            27                  2263                84                  \n",
      "8                   West Indies         32                  2570                80                  \n",
      "9                   Bangladesh          23                  1413                61                  \n",
      "10                  Afghanistan         3                   165                 55                  \n",
      "11                  Zimbabwe            9                   140                 16                  \n",
      "12                  Ireland             3                   0                   0                   \n",
      "\n",
      "ICC ODI Championship\n",
      "\n",
      "02 October 2019\n",
      "Pos                 Team                Matches             Points              Rating              \n",
      "1                   England             54                  6745                125                 \n",
      "2                   India               58                  7071                122                 \n",
      "3                   New Zealand         42                  4709                112                 \n",
      "4                   Australia           50                  5543                111                 \n",
      "5                   South Africa        47                  5193                110                 \n",
      "6                   Pakistan            51                  5019                98                  \n",
      "7                   Bangladesh          46                  3963                86                  \n",
      "8                   Sri Lanka           56                  4520                81                  \n",
      "9                   West Indies         48                  3675                77                  \n",
      "10                  Afghanistan         40                  2359                59                  \n",
      "11                  Ireland             29                  1466                51                  \n",
      "12                  Zimbabwe            35                  1538                44                  \n",
      "13                  Netherlands         6                   222                 37                  \n",
      "14                  Scotland            15                  534                 36                  \n",
      "15                  Namibia             8                   183                 23                  \n",
      "16                  Oman                8                   174                 22                  \n",
      "17                  Nepal               8                   152                 19                  \n",
      "18                  USA                 8                   115                 14                  \n",
      "19                  UAE                 15                  144                 10                  \n",
      "20                  PNG                 17                  0                   0                   \n",
      "\n",
      "ICC Twenty20 Rankings\n",
      "\n",
      "10 October 2019\n",
      "Pos                 Team                Matches             Points              Rating              \n",
      "1                   Pakistan            29                  7935                274                 \n",
      "2                   England             16                  4253                266                 \n",
      "3                   South Africa        18                  4720                262                 \n",
      "4                   India               33                  8620                261                 \n",
      "5                   Australia           21                  5471                261                 \n",
      "6                   New Zealand         19                  4784                252                 \n",
      "7                   Sri Lanka           24                  5777                241                 \n",
      "8                   Afghanistan         20                  4696                235                 \n",
      "9                   Bangladesh          20                  4483                224                 \n",
      "10                  West Indies         24                  5378                224                 \n",
      "11                  Zimbabwe            21                  4082                194                 \n",
      "12                  Scotland            15                  2901                193                 \n",
      "13                  UAE                 18                  3453                192                 \n",
      "14                  Nepal               21                  4000                190                 \n",
      "15                  Ireland             28                  5234                187                 \n",
      "16                  Oman                9                   1678                186                 \n",
      "17                  PNG                 22                  3834                174                 \n",
      "18                  Netherlands         22                  3736                170                 \n",
      "19                  Namibia             16                  2350                147                 \n",
      "20                  Hong Kong           12                  1707                142                 \n",
      "21                  Singapore           16                  2176                136                 \n",
      "22                  Qatar               19                  2427                128                 \n",
      "23                  Saudi Arabia        11                  1331                121                 \n",
      "24                  Canada              13                  1568                121                 \n",
      "25                  Jersey              17                  1910                112                 \n",
      "26                  Italy               12                  1326                111                 \n",
      "27                  Kuwait              13                  1354                104                 \n",
      "28                  Denmark             14                  1438                103                 \n",
      "29                  Kenya               12                  1229                102                 \n",
      "30                  Bermuda             7                   716                 102                 \n",
      "31                  Germany             18                  1527                85                  \n",
      "32                  USA                 15                  1208                81                  \n",
      "33                  Botswana            19                  1494                79                  \n",
      "34                  Ghana               10                  773                 77                  \n",
      "35                  Uganda              14                  1069                76                  \n",
      "36                  Norway              10                  709                 87                  \n",
      "37                  Nigeria             10                  708                 71                  \n",
      "38                  Austria             11                  778                 71                  \n",
      "39                  Guernsey            16                  1127                70                  \n",
      "40                  Romania             6                   419                 70                  \n",
      "41                  Malaysia            26                  1772                68                  \n",
      "42                  Sweden              8                   465                 58                  \n",
      "43                  Tanzania            6                   334                 56                  \n",
      "44                  Cayman Islands      8                   430                 54                  \n",
      "45                  Spain               12                  602                 50                  \n",
      "46                  Philippines         9                   433                 48                  \n",
      "47                  France              6                   267                 45                  \n",
      "48                  Vanuatu             20                  869                 43                  \n",
      "49                  Belize              9                   377                 42                  \n",
      "50                  Luxembourg          10                  407                 41                  \n",
      "51                  Peru                9                   356                 40                  \n",
      "52                  Bahrain             7                   261                 37                  \n",
      "53                  Mexico              12                  426                 36                  \n",
      "54                  Fiji                6                   210                 35                  \n",
      "55                  Panama              9                   291                 32                  \n",
      "56                  Belgium             9                   290                 32                  \n",
      "57                  Samoa               10                  318                 32                  \n",
      "58                  Japan               10                  317                 32                  \n",
      "59                  Costa Rica          8                   252                 32                  \n",
      "60                  Argentina           12                  370                 31                  \n",
      "61                  Hungary             6                   180                 30                  \n",
      "62                  Mozambique          12                  352                 29                  \n",
      "63                  Thailand            14                  369                 26                  \n",
      "64                  Chile               10                  249                 25                  \n",
      "65                  Malawi              12                  297                 25                  \n",
      "66                  Israel              7                   173                 25                  \n",
      "67                  Czech Republic      15                  355                 24                  \n",
      "68                  Finland             13                  296                 23                  \n",
      "69                  Bhutan              8                   180                 23                  \n",
      "70                  South Korea         10                  217                 22                  \n",
      "71                  Isle of Man         7                   149                 21                  \n",
      "72                  Malta               11                  158                 14                  \n",
      "73                  Bulgaria            5                   68                  14                  \n",
      "74                  Sierra Leone        5                   61                  12                  \n",
      "75                  Brazil              9                   108                 12                  \n",
      "76                  Maldives            11                  114                 10                  \n",
      "77                  St Helena           12                  109                 9                   \n",
      "78                  Gibraltar           8                   35                  4                   \n",
      "79                  Myanmar             9                   23                  3                   \n",
      "80                  Indonesia           7                   3                   0                   \n",
      "81                  China               11                  0                   0                   \n",
      "82                  Gambia              6                   0                   0                   \n",
      "83                  Swaziland           6                   0                   0                   \n",
      "84                  Rwanda              6                   0                   0                   \n",
      "85                  Lesotho             6                   0                   0                   \n",
      "\n",
      "ICC Women's ODI Team Rankings\n",
      "\n",
      "11 October 2019\n",
      "Pos                 Team                Matches             Points              Rating              \n",
      "1                   Australia Women     25                  3784                151                 \n",
      "2                   India Women         26                  3295                127                 \n",
      "3                   England Women       27                  3303                122                 \n",
      "4                   New Zealand Women   23                  2533                110                 \n",
      "5                   South Africa Women  32                  3077                96                  \n",
      "6                   West Indies Women   21                  1664                79                  \n",
      "7                   Pakistan Women      21                  1613                77                  \n",
      "8                   Sri Lanka Women     21                  1163                55                  \n",
      "9                   Bangladesh Women    8                   387                 48                  \n",
      "10                  Ireland Women       6                   110                 18                  \n",
      "\n",
      "ICC Women's T20 Team Rankings\n",
      "\n",
      "07 October 2019\n",
      "Pos                 Team                Matches             Points              Rating              \n",
      "1                   Australia Women     25                  7331                293                 \n",
      "2                   England Women       22                  6141                279                 \n",
      "3                   New Zealand Women   18                  4963                276                 \n",
      "4                   West Indies Women   22                  5682                258                 \n",
      "5                   India Women         28                  7046                252                 \n",
      "6                   South Africa Women  24                  5776                241                 \n",
      "7                   Pakistan Women      25                  5688                228                 \n",
      "8                   Sri Lanka Women     22                  4420                201                 \n",
      "9                   Bangladesh Women    24                  4698                196                 \n",
      "10                  Ireland Women       22                  3622                165                 \n",
      "11                  Thailand Women      41                  6582                161                 \n",
      "12                  Zimbabwe Women      20                  3153                158                 \n",
      "13                  Scotland Women      19                  2759                145                 \n",
      "14                  Nepal Women         17                  2181                128                 \n",
      "15                  PNG Women           23                  2894                126                 \n",
      "16                  UAE Women           19                  2326                122                 \n",
      "17                  Uganda Women        25                  3036                121                 \n",
      "18                  Samoa Women         15                  1816                121                 \n",
      "19                  Tanzania Women      19                  1915                101                 \n",
      "20                  Kenya Women         11                  1053                96                  \n",
      "21                  Netherlands Women   19                  1640                86                  \n",
      "22                  Indonesia Women     18                  1448                80                  \n",
      "23                  Hong Kong Women     25                  1841                74                  \n",
      "24                  Namibia Women       30                  2103                70                  \n",
      "25                  China Women         23                  1554                68                  \n",
      "26                  Japan Women         14                  751                 54                  \n",
      "27                  Vanuatu Women       15                  734                 49                  \n",
      "28                  Argentina Women     9                   428                 48                  \n",
      "29                  Malaysia Women      27                  1183                44                  \n",
      "30                  Rwanda Women        20                  851                 43                  \n",
      "31                  Myanmar Women       10                  424                 42                  \n",
      "32                  USA Women           9                   371                 41                  \n",
      "33                  Jersey Women        7                   280                 40                  \n",
      "34                  Kuwait Women        8                   309                 39                  \n",
      "35                  Sierra Leone Women  8                   308                 39                  \n",
      "36                  France Women        9                   333                 37                  \n",
      "37                  Botswana Women      10                  368                 37                  \n",
      "38                  Germany Women       7                   234                 33                  \n",
      "39                  Nigeria Women       16                  478                 30                  \n",
      "40                  Denmark Women       3                   85                  28                  \n",
      "41                  Mexico Women        4                   100                 25                  \n",
      "42                  Brazil Women        11                  256                 23                  \n",
      "43                  South Korea Women   9                   159                 18                  \n",
      "44                  Bhutan Women        6                   101                 17                  \n",
      "45                  Malawi Women        3                   34                  11                  \n",
      "46                  Mozambique Women    9                   94                  10                  \n",
      "47                  Austria Women       6                   54                  9                   \n",
      "48                  Belgium Women       3                   20                  7                   \n",
      "49                  Chile Women         6                   33                  6                   \n",
      "50                  Peru Women          6                   13                  2                   \n",
      "51                  Singapore Women     10                  6                   1                   \n",
      "52                  Fiji Women          12                  0                   0                   \n",
      "53                  Norway Women        6                   0                   0                   \n",
      "54                  Mali Women          6                   0                   0                   \n",
      "55                  Lesotho Women       3                   0                   0                   \n",
      "\n"
     ]
    }
   ],
   "source": [
    "for i, value in enumerate(ranking):\n",
    "    print(cric_format[i].text)\n",
    "    print()\n",
    "    print(value.caption.text)\n",
    "    tr = value.find_all(\"tr\")\n",
    "    j = 0\n",
    "    for t in tr:\n",
    "        if j == 0:\n",
    "            search = \"th\"\n",
    "        else:\n",
    "            search = \"td\"\n",
    "        for y in t.find_all(search):\n",
    "            print(\"{:20}\".format(y.text), end = \"\")\n",
    "        j+=1\n",
    "        print()\n",
    "    print()"
   ]
  },
  {
   "cell_type": "code",
   "execution_count": null,
   "metadata": {},
   "outputs": [],
   "source": []
  },
  {
   "cell_type": "code",
   "execution_count": null,
   "metadata": {},
   "outputs": [],
   "source": []
  }
 ],
 "metadata": {
  "kernelspec": {
   "display_name": "Python 3",
   "language": "python",
   "name": "python3"
  },
  "language_info": {
   "codemirror_mode": {
    "name": "ipython",
    "version": 3
   },
   "file_extension": ".py",
   "mimetype": "text/x-python",
   "name": "python",
   "nbconvert_exporter": "python",
   "pygments_lexer": "ipython3",
   "version": "3.7.3"
  }
 },
 "nbformat": 4,
 "nbformat_minor": 2
}
