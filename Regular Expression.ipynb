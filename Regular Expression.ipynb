{
 "cells": [
  {
   "cell_type": "code",
   "execution_count": 1,
   "metadata": {},
   "outputs": [],
   "source": [
    "import pandas as pd\n",
    "import numpy as np"
   ]
  },
  {
   "cell_type": "code",
   "execution_count": 2,
   "metadata": {},
   "outputs": [
    {
     "data": {
      "text/html": [
       "<div>\n",
       "<style scoped>\n",
       "    .dataframe tbody tr th:only-of-type {\n",
       "        vertical-align: middle;\n",
       "    }\n",
       "\n",
       "    .dataframe tbody tr th {\n",
       "        vertical-align: top;\n",
       "    }\n",
       "\n",
       "    .dataframe thead th {\n",
       "        text-align: right;\n",
       "    }\n",
       "</style>\n",
       "<table border=\"1\" class=\"dataframe\">\n",
       "  <thead>\n",
       "    <tr style=\"text-align: right;\">\n",
       "      <th></th>\n",
       "      <th>id</th>\n",
       "      <th>title</th>\n",
       "      <th>url</th>\n",
       "      <th>num_points</th>\n",
       "      <th>num_comments</th>\n",
       "      <th>author</th>\n",
       "      <th>created_at</th>\n",
       "    </tr>\n",
       "  </thead>\n",
       "  <tbody>\n",
       "    <tr>\n",
       "      <th>0</th>\n",
       "      <td>12224879</td>\n",
       "      <td>Interactive Dynamic Video</td>\n",
       "      <td>http://www.interactivedynamicvideo.com/</td>\n",
       "      <td>386</td>\n",
       "      <td>52</td>\n",
       "      <td>ne0phyte</td>\n",
       "      <td>8/4/2016 11:52</td>\n",
       "    </tr>\n",
       "    <tr>\n",
       "      <th>1</th>\n",
       "      <td>10975351</td>\n",
       "      <td>How to Use Open Source and Shut the Fuck Up at...</td>\n",
       "      <td>http://hueniverse.com/2016/01/26/how-to-use-op...</td>\n",
       "      <td>39</td>\n",
       "      <td>10</td>\n",
       "      <td>josep2</td>\n",
       "      <td>1/26/2016 19:30</td>\n",
       "    </tr>\n",
       "  </tbody>\n",
       "</table>\n",
       "</div>"
      ],
      "text/plain": [
       "         id                                              title  \\\n",
       "0  12224879                          Interactive Dynamic Video   \n",
       "1  10975351  How to Use Open Source and Shut the Fuck Up at...   \n",
       "\n",
       "                                                 url  num_points  \\\n",
       "0            http://www.interactivedynamicvideo.com/         386   \n",
       "1  http://hueniverse.com/2016/01/26/how-to-use-op...          39   \n",
       "\n",
       "   num_comments    author       created_at  \n",
       "0            52  ne0phyte   8/4/2016 11:52  \n",
       "1            10    josep2  1/26/2016 19:30  "
      ]
     },
     "execution_count": 2,
     "metadata": {},
     "output_type": "execute_result"
    }
   ],
   "source": [
    "file = pd.read_csv(\"hacker_news.csv\")\n",
    "file.head(2)\n"
   ]
  },
  {
   "cell_type": "markdown",
   "metadata": {},
   "source": [
    "REGULAR EXPRESSION is a string which can be used to find a pattern"
   ]
  },
  {
   "cell_type": "code",
   "execution_count": null,
   "metadata": {},
   "outputs": [],
   "source": []
  },
  {
   "cell_type": "code",
   "execution_count": 3,
   "metadata": {},
   "outputs": [
    {
     "data": {
      "text/plain": [
       "0                            Interactive Dynamic Video\n",
       "1    How to Use Open Source and Shut the Fuck Up at...\n",
       "2    Florida DJs May Face Felony for April Fools' W...\n",
       "3         Technology ventures: From Idea to Enterprise\n",
       "4    Note by Note: The Making of Steinway L1037 (2007)\n",
       "Name: title, dtype: object"
      ]
     },
     "execution_count": 3,
     "metadata": {},
     "output_type": "execute_result"
    }
   ],
   "source": [
    "titles = file[\"title\"]\n",
    "titles.head()"
   ]
  },
  {
   "cell_type": "code",
   "execution_count": 4,
   "metadata": {},
   "outputs": [
    {
     "data": {
      "text/plain": [
       "160"
      ]
     },
     "execution_count": 4,
     "metadata": {},
     "output_type": "execute_result"
    }
   ],
   "source": [
    "pattern = \"[Pp]ython\" #Python or python\n",
    "titles.str.contains(pattern, na=False).sum() #number of titles containing Python or python"
   ]
  },
  {
   "cell_type": "code",
   "execution_count": 5,
   "metadata": {},
   "outputs": [],
   "source": [
    "x = titles[titles.str.contains(pattern)]\n",
    "#x"
   ]
  },
  {
   "cell_type": "code",
   "execution_count": 6,
   "metadata": {},
   "outputs": [
    {
     "data": {
      "text/plain": [
       "Python    149\n",
       "python     11\n",
       "Name: 0, dtype: int64"
      ]
     },
     "execution_count": 6,
     "metadata": {},
     "output_type": "execute_result"
    }
   ],
   "source": [
    "#To extract the word \"python\" from title\n",
    "ptn = \"([Pp]ython)\"\n",
    "x.str.extract(ptn)[0].value_counts() #[0] written to convert from dataframe to series so value counts can be applied"
   ]
  },
  {
   "cell_type": "markdown",
   "metadata": {},
   "source": [
    "value_counts applies only on Series not DataFrame(rows and columns)"
   ]
  },
  {
   "cell_type": "code",
   "execution_count": 7,
   "metadata": {},
   "outputs": [
    {
     "data": {
      "text/plain": [
       "160"
      ]
     },
     "execution_count": 7,
     "metadata": {},
     "output_type": "execute_result"
    }
   ],
   "source": [
    "#same work as above done by regular python by importing module \"re\"\n",
    "import re\n",
    "\n",
    "count = 0\n",
    "for i in titles:\n",
    "    if re.search(pattern,i): #first parameter is pattern, second is string in which pattern needs to be searched\n",
    "        count+=1\n",
    "count"
   ]
  },
  {
   "cell_type": "code",
   "execution_count": 8,
   "metadata": {},
   "outputs": [
    {
     "data": {
      "text/plain": [
       "NaN       20014\n",
       "email        81\n",
       "e-mail        5\n",
       "Name: 0, dtype: int64"
      ]
     },
     "execution_count": 8,
     "metadata": {},
     "output_type": "execute_result"
    }
   ],
   "source": [
    "#if searching for email/e-mail\n",
    "ptn2 = \"(e-?mail)\" # ? represents optional. \n",
    "titles.str.extract(ptn2)[0].value_counts(dropna = False)"
   ]
  },
  {
   "cell_type": "markdown",
   "metadata": {},
   "source": [
    "a? means optional - a may or may not be present,\n",
    "a+ means a might appear more than once in the string,\n",
    "a* means a might not appear or may appear multiple times"
   ]
  },
  {
   "cell_type": "markdown",
   "metadata": {},
   "source": [
    "1000 - 2999 (patterns can be written in multiple ways to search/extract)\n",
    "* [12][0-9]{3}\n",
    "* [12][0-9]+"
   ]
  },
  {
   "cell_type": "markdown",
   "metadata": {},
   "source": [
    "* \\d represents [0-9]\n",
    "* \\w represents [0-9A-Za-z] (any numbers and characters in upper or lower case\n",
    "* \\s represents [whitespace, tab(4 spaces),newline]\n",
    "* . (dot) means all of the above except newline(\\n)"
   ]
  },
  {
   "cell_type": "code",
   "execution_count": 9,
   "metadata": {},
   "outputs": [
    {
     "data": {
      "text/plain": [
       "[pdf]            276\n",
       "[video]          111\n",
       "[2015]             3\n",
       "[audio]            3\n",
       "[slides]           2\n",
       "[2014]             2\n",
       "[beta]             2\n",
       "[JavaScript]       1\n",
       "[Beta]             1\n",
       "[Ubuntu]           1\n",
       "[NSFW]             1\n",
       "[React]            1\n",
       "[Videos]           1\n",
       "[crash]            1\n",
       "[Australian]       1\n",
       "[song]             1\n",
       "[ask]              1\n",
       "[Excerpt]          1\n",
       "[2008]             1\n",
       "[Benchmark]        1\n",
       "[Infograph]        1\n",
       "[CSS]              1\n",
       "[1996]             1\n",
       "[repost]           1\n",
       "[Challenge]        1\n",
       "[HBR]              1\n",
       "[Map]              1\n",
       "[Skinnywhale]      1\n",
       "[transcript]       1\n",
       "[blank]            1\n",
       "[gif]              1\n",
       "[satire]           1\n",
       "[Petition]         1\n",
       "[videos]           1\n",
       "[survey]           1\n",
       "[SPA]              1\n",
       "[much]             1\n",
       "[comic]            1\n",
       "[viz]              1\n",
       "[USA]              1\n",
       "[updated]          1\n",
       "[5]                1\n",
       "[German]           1\n",
       "[map]              1\n",
       "[Live]             1\n",
       "[Python]           1\n",
       "[SpaceX]           1\n",
       "[ANNOUNCE]         1\n",
       "[coffee]           1\n",
       "[GOST]             1\n",
       "[detainee]         1\n",
       "[png]              1\n",
       "Name: 0, dtype: int64"
      ]
     },
     "execution_count": 9,
     "metadata": {},
     "output_type": "execute_result"
    }
   ],
   "source": [
    "ptrn = r\"(\\[\\w+\\])\" #checking for tags in titles\n",
    "titles.str.extract(ptrn)[0].value_counts()"
   ]
  },
  {
   "cell_type": "code",
   "execution_count": 10,
   "metadata": {},
   "outputs": [
    {
     "data": {
      "text/plain": [
       "[pdf]                                276\n",
       "[video]                              111\n",
       "[2015]                                 3\n",
       "[audio]                                3\n",
       "[2014]                                 2\n",
       "[slides]                               2\n",
       "[beta]                                 2\n",
       "[Osmf-talk]                            1\n",
       "[Python][Angular]                      1\n",
       "[JavaScript]                           1\n",
       "[XSA-148]                              1\n",
       "[crash]                                1\n",
       "[video/animation]                      1\n",
       "[2008]                                 1\n",
       "[US Senate] [1996]                     1\n",
       "[FOR GIT USERS]                        1\n",
       "[blank]                                1\n",
       "[Beta]                                 1\n",
       "[Ubuntu]                               1\n",
       "[dns-operations]                       1\n",
       "[NSFW]                                 1\n",
       "[React]                                1\n",
       "[Videos]                               1\n",
       "[info needed]                          1\n",
       "[Australian]                           1\n",
       "[2007?]                                1\n",
       "[Map]                                  1\n",
       "[Google Sheets]                        1\n",
       "[repost]                               1\n",
       "[HBR]                                  1\n",
       "                                    ... \n",
       "[January 2016]                         1\n",
       "[survey]                               1\n",
       "[47:03]                                1\n",
       "[Ksummit-Discuss]                      1\n",
       "[videos]                               1\n",
       "[Petition]                             1\n",
       "[Reuters Institute survey]             1\n",
       "[satire]                               1\n",
       "[Will Replace Logstash Forwarder]      1\n",
       "[video, ~15min]                        1\n",
       "[ACM Queue]                            1\n",
       "[viz]                                  1\n",
       "[5]                                    1\n",
       "[In a 40mph Collision]                 1\n",
       "[ask]                                  1\n",
       "[GOST]                                 1\n",
       "[PHP-DEV]                              1\n",
       "[coffee]                               1\n",
       "[SpaceX]                               1\n",
       "[systemd-devel] [ANNOUNCE]             1\n",
       "[Live]                                 1\n",
       "[map]                                  1\n",
       "[] stroke and risk factors []          1\n",
       "[German]                               1\n",
       "[updated]                              1\n",
       "[gif]                                  1\n",
       "[USA]                                  1\n",
       "[The Verge]                            1\n",
       "[Android App]                          1\n",
       "[png]                                  1\n",
       "Name: 0, Length: 79, dtype: int64"
      ]
     },
     "execution_count": 10,
     "metadata": {},
     "output_type": "execute_result"
    }
   ],
   "source": [
    "pattern2 = r\"(\\[.+])\"\n",
    "titles.str.extract(pattern2)[0].value_counts()"
   ]
  },
  {
   "cell_type": "code",
   "execution_count": 11,
   "metadata": {},
   "outputs": [
    {
     "data": {
      "text/plain": [
       "Java     37\n",
       "Java,     3\n",
       "Java:     3\n",
       "java      2\n",
       "Java?     2\n",
       "JavaF     1\n",
       "JavaO     1\n",
       "javac     1\n",
       "Name: 0, dtype: int64"
      ]
     },
     "execution_count": 11,
     "metadata": {},
     "output_type": "execute_result"
    }
   ],
   "source": [
    "pattern3 = \"([Jj]ava[^Ss])\" #searches for Java or java, but not JavaScript/Javascript\n",
    "titles.str.extract(pattern3)[0].value_counts()"
   ]
  },
  {
   "cell_type": "code",
   "execution_count": 12,
   "metadata": {},
   "outputs": [
    {
     "data": {
      "text/plain": [
       "Java    52\n",
       "java     2\n",
       "Name: 0, dtype: int64"
      ]
     },
     "execution_count": 12,
     "metadata": {},
     "output_type": "execute_result"
    }
   ],
   "source": [
    "pattern4 = r\"(\\b[Jj]ava\\b)\" \n",
    "titles.str.extract(pattern4)[0].value_counts()"
   ]
  },
  {
   "cell_type": "markdown",
   "metadata": {},
   "source": [
    "in RE, \\b represents boundary anchor. only extracts Java or java from strings, unlike in previous code"
   ]
  },
  {
   "cell_type": "code",
   "execution_count": 13,
   "metadata": {},
   "outputs": [
    {
     "data": {
      "text/plain": [
       "1024                  Pippo  Web framework in Java\n",
       "3229                       Comparing Rust and Java\n",
       "3628             Friends don't let friends do Java\n",
       "7687     Insider: Oracle has lost interest in Java\n",
       "12731                      Show HN: Shazam in Java\n",
       "Name: title, dtype: object"
      ]
     },
     "execution_count": 13,
     "metadata": {},
     "output_type": "execute_result"
    }
   ],
   "source": [
    "pattern5 = r\"[Jj]ava$\" \n",
    "titles[titles.str.contains(pattern5)].head()\n"
   ]
  },
  {
   "cell_type": "code",
   "execution_count": 14,
   "metadata": {},
   "outputs": [
    {
     "data": {
      "text/plain": [
       "email     80\n",
       "e-mail     5\n",
       "e mail     4\n",
       "Name: 0, dtype: int64"
      ]
     },
     "execution_count": 14,
     "metadata": {},
     "output_type": "execute_result"
    }
   ],
   "source": [
    "#pattern for email, e-mail, e mail, e.mail\n",
    "pattern6 = r\"(e[-\\s\\.]?mail)\" #\\. written to avoid dot as in shorthand notation\n",
    "titles.str.extract(pattern6)[0].value_counts()"
   ]
  },
  {
   "cell_type": "code",
   "execution_count": 15,
   "metadata": {},
   "outputs": [
    {
     "data": {
      "text/plain": [
       "SQL    101\n",
       "Sql      4\n",
       "sql      3\n",
       "Name: 0, dtype: int64"
      ]
     },
     "execution_count": 15,
     "metadata": {},
     "output_type": "execute_result"
    }
   ],
   "source": [
    "#pattern for sql, SQL, Sql\n",
    "pattern7 = r\"([Ss][Qq][Ll])\"\n",
    "titles.str.extract(pattern7)[0].value_counts()"
   ]
  },
  {
   "cell_type": "code",
   "execution_count": 16,
   "metadata": {},
   "outputs": [
    {
     "data": {
      "text/plain": [
       "SQL    101\n",
       "Sql      4\n",
       "sql      3\n",
       "Name: 0, dtype: int64"
      ]
     },
     "execution_count": 16,
     "metadata": {},
     "output_type": "execute_result"
    }
   ],
   "source": [
    "pattern = r\"(sql)\"\n",
    "titles.str.extract(pattern, flags = re.I)[0].value_counts()  #re.I means ignore case(A,a), flag can also be passed in contains"
   ]
  },
  {
   "cell_type": "code",
   "execution_count": 17,
   "metadata": {},
   "outputs": [
    {
     "data": {
      "text/plain": [
       "SQL           46\n",
       "PostgreSQL    27\n",
       "NoSQL         14\n",
       "MySQL         12\n",
       "sql            3\n",
       "Sql            3\n",
       "MemSQL         1\n",
       "CloudSQL       1\n",
       "mySql          1\n",
       "Name: 0, dtype: int64"
      ]
     },
     "execution_count": 17,
     "metadata": {},
     "output_type": "execute_result"
    }
   ],
   "source": [
    "pattern = r\"(\\w*sql)\"\n",
    "titles.str.extract(pattern, flags = re.I)[0].value_counts()"
   ]
  },
  {
   "cell_type": "code",
   "execution_count": 18,
   "metadata": {},
   "outputs": [
    {
     "data": {
      "text/plain": [
       "3        10\n",
       "3.5       3\n",
       "2         3\n",
       "3.6       2\n",
       "2.7       1\n",
       "4         1\n",
       "8         1\n",
       "1.5       1\n",
       "3.5.0     1\n",
       "Name: 0, dtype: int64"
      ]
     },
     "execution_count": 18,
     "metadata": {},
     "output_type": "execute_result"
    }
   ],
   "source": [
    "#python 3, python 3.0, python 3.7.3\n",
    "pattern = r\"[Pp]ython\\s([\\d\\.?]+)\"\n",
    "titles.str.extract(pattern, flags = re.I)[0].value_counts()"
   ]
  },
  {
   "cell_type": "code",
   "execution_count": 19,
   "metadata": {},
   "outputs": [
    {
     "data": {
      "text/plain": [
       "C     52\n",
       "C#    15\n",
       "C/     5\n",
       "C,     3\n",
       "c      2\n",
       "C-     2\n",
       "C:     2\n",
       "c-     1\n",
       "C?     1\n",
       "C'     1\n",
       "Name: 0, dtype: int64"
      ]
     },
     "execution_count": 19,
     "metadata": {},
     "output_type": "execute_result"
    }
   ],
   "source": [
    "#C,c but not C++\n",
    "pattern = r\"(\\b[Cc]\\b[^.+])\"\n",
    "titles.str.extract(pattern, flags = re.I)[0].value_counts()"
   ]
  },
  {
   "cell_type": "markdown",
   "metadata": {},
   "source": [
    "Backreferencing\n",
    "* C(?!++) C not followed by ++ immediately\n",
    "* (?<=abc)zzz abc followed by zzz\n"
   ]
  },
  {
   "cell_type": "code",
   "execution_count": 20,
   "metadata": {},
   "outputs": [
    {
     "data": {
      "text/plain": [
       "C    99\n",
       "c     3\n",
       "Name: 0, dtype: int64"
      ]
     },
     "execution_count": 20,
     "metadata": {},
     "output_type": "execute_result"
    }
   ],
   "source": [
    "pattern = r\"(?<!Series\\s)(\\b[Cc]\\b)(?![.+])\"\n",
    "titles.str.extract(pattern, flags = re.I)[0].value_counts()\n",
    "#titles[titles.str.contains(pattern, flags = re.I)]"
   ]
  },
  {
   "cell_type": "code",
   "execution_count": 21,
   "metadata": {},
   "outputs": [
    {
     "name": "stderr",
     "output_type": "stream",
     "text": [
      "C:\\ProgramData\\Anaconda3\\lib\\site-packages\\ipykernel_launcher.py:2: UserWarning: This pattern has match groups. To actually get the groups, use str.extract.\n",
      "  \n"
     ]
    },
    {
     "data": {
      "text/plain": [
       "3103                  Silicon Valley Has a Problem Problem\n",
       "3177                Wire Wire: A West African Cyber Threat\n",
       "3179                         Flexbox Cheatsheet Cheatsheet\n",
       "4798                            The Mindset Mindset (2015)\n",
       "7277     Valentine's Day Special: Bye Bye Tinder, Flirt...\n",
       "10372    Mcdonalds copying cyriak  cows cows cows in th...\n",
       "11576                                    Bang Bang Control\n",
       "11902          Cordless Telephones: Bye Bye Privacy (1991)\n",
       "12698          Solving the the Monty-Hall-Problem in Swift\n",
       "15050    Bye Bye Webrtc2SIP: WebRTC with Asterisk and A...\n",
       "15840          Intellij-Rust Rust Plugin for IntelliJ IDEA\n",
       "Name: title, dtype: object"
      ]
     },
     "execution_count": 21,
     "metadata": {},
     "output_type": "execute_result"
    }
   ],
   "source": [
    "pattern = r\"\\b(\\w+)\\s\\1\\b\" #to check for any word that is repeating once\n",
    "titles[titles.str.contains(pattern)]"
   ]
  },
  {
   "cell_type": "markdown",
   "metadata": {},
   "source": [
    "repeating word should be in capture group to be checked "
   ]
  },
  {
   "cell_type": "code",
   "execution_count": 22,
   "metadata": {},
   "outputs": [
    {
     "data": {
      "text/plain": [
       "0              http://www.interactivedynamicvideo.com/\n",
       "1    http://hueniverse.com/2016/01/26/how-to-use-op...\n",
       "2    http://www.thewire.com/entertainment/2013/04/f...\n",
       "3    https://www.amazon.com/Technology-Ventures-Ent...\n",
       "4    http://www.nytimes.com/2007/11/07/movies/07ste...\n",
       "Name: url, dtype: object"
      ]
     },
     "execution_count": 22,
     "metadata": {},
     "output_type": "execute_result"
    }
   ],
   "source": [
    "url = file[\"url\"]\n",
    "url.head()"
   ]
  },
  {
   "cell_type": "code",
   "execution_count": 23,
   "metadata": {},
   "outputs": [
    {
     "data": {
      "text/plain": [
       "https://github.com                      994\n",
       "https://medium.com                      824\n",
       "https://www.youtube.com                 212\n",
       "https://www.washingtonpost.com          178\n",
       "https://en.wikipedia.org                100\n",
       "https://twitter.com                      92\n",
       "https://www.theguardian.com              81\n",
       "https://techcrunch.com                   65\n",
       "https://www.eff.org                      56\n",
       "https://www.reddit.com                   42\n",
       "https://www.kickstarter.com              40\n",
       "https://www.facebook.com                 40\n",
       "https://gist.github.com                  38\n",
       "https://theintercept.com                 36\n",
       "https://www.linkedin.com                 30\n",
       "https://aeon.co                          28\n",
       "https://www.techinasia.com               28\n",
       "https://itunes.apple.com                 26\n",
       "https://aws.amazon.com                   26\n",
       "https://chrome.google.com                25\n",
       "https://backchannel.com                  24\n",
       "https://hbr.org                          22\n",
       "https://docs.google.com                  22\n",
       "https://play.google.com                  22\n",
       "https://torrentfreak.com                 21\n",
       "https://www.technologyreview.com         21\n",
       "https://blog.cloudflare.com              20\n",
       "https://www.google.com                   20\n",
       "https://www.quora.com                    19\n",
       "https://theconversation.com              19\n",
       "                                       ... \n",
       "https://z.cash                            1\n",
       "https://instapainting.com                 1\n",
       "https://rjlipton.wordpress.com            1\n",
       "https://merch.amazon.com                  1\n",
       "https://ind.ie                            1\n",
       "https://sandofsky.com                     1\n",
       "https://hardbound.co                      1\n",
       "https://zube.io                           1\n",
       "https://www.drivenbycode.com              1\n",
       "https://www.cesg.gov.uk                   1\n",
       "https://www.nexoid.at                     1\n",
       "https://cran.r                            1\n",
       "https://poste.io                          1\n",
       "https://clara.forsyte.tuwien.ac.at        1\n",
       "https://extractorapp.com                  1\n",
       "https://www.psychologicalscience.org      1\n",
       "https://www.bionicspirit.com              1\n",
       "https://notes.nevan.net                   1\n",
       "https://www.movebuddha.com                1\n",
       "https://map.what3words.com                1\n",
       "https://theweek.com                       1\n",
       "https://jarr.herokuapp.com                1\n",
       "https://www.rackaid.com                   1\n",
       "https://www.thoughtworks.com              1\n",
       "https://blog.soff.es                      1\n",
       "https://www.transmissionbt.com            1\n",
       "https://spapas.github.io                  1\n",
       "https://dandelion.eu                      1\n",
       "https://mortoray.com                      1\n",
       "https://forum.sublimetext.com             1\n",
       "Name: 0, Length: 2450, dtype: int64"
      ]
     },
     "execution_count": 23,
     "metadata": {},
     "output_type": "execute_result"
    }
   ],
   "source": [
    "pattern = r\"(https+://[\\w\\.]+)\"\n",
    "url.str.extract(pattern, flags= re.I)[0].value_counts()"
   ]
  },
  {
   "cell_type": "code",
   "execution_count": 24,
   "metadata": {},
   "outputs": [
    {
     "data": {
      "text/html": [
       "<div>\n",
       "<style scoped>\n",
       "    .dataframe tbody tr th:only-of-type {\n",
       "        vertical-align: middle;\n",
       "    }\n",
       "\n",
       "    .dataframe tbody tr th {\n",
       "        vertical-align: top;\n",
       "    }\n",
       "\n",
       "    .dataframe thead th {\n",
       "        text-align: right;\n",
       "    }\n",
       "</style>\n",
       "<table border=\"1\" class=\"dataframe\">\n",
       "  <thead>\n",
       "    <tr style=\"text-align: right;\">\n",
       "      <th></th>\n",
       "      <th>Protocol</th>\n",
       "      <th>DomainName</th>\n",
       "      <th>Path</th>\n",
       "    </tr>\n",
       "  </thead>\n",
       "  <tbody>\n",
       "    <tr>\n",
       "      <th>0</th>\n",
       "      <td>http://</td>\n",
       "      <td>www.interactivedynamicvideo.com</td>\n",
       "      <td></td>\n",
       "    </tr>\n",
       "    <tr>\n",
       "      <th>1</th>\n",
       "      <td>http://</td>\n",
       "      <td>hueniverse.com</td>\n",
       "      <td>2016/01/26/how-to-use-open-source-and-shut-the...</td>\n",
       "    </tr>\n",
       "    <tr>\n",
       "      <th>2</th>\n",
       "      <td>http://</td>\n",
       "      <td>www.thewire.com</td>\n",
       "      <td>entertainment/2013/04/florida-djs-april-fools-...</td>\n",
       "    </tr>\n",
       "    <tr>\n",
       "      <th>3</th>\n",
       "      <td>https://</td>\n",
       "      <td>www.amazon.com</td>\n",
       "      <td>Technology-Ventures-Enterprise-Thomas-Byers/dp...</td>\n",
       "    </tr>\n",
       "    <tr>\n",
       "      <th>4</th>\n",
       "      <td>http://</td>\n",
       "      <td>www.nytimes.com</td>\n",
       "      <td>2007/11/07/movies/07stein.html?_r=0</td>\n",
       "    </tr>\n",
       "    <tr>\n",
       "      <th>5</th>\n",
       "      <td>http://</td>\n",
       "      <td>arstechnica.com</td>\n",
       "      <td>business/2015/10/comcast-and-other-isps-boost-...</td>\n",
       "    </tr>\n",
       "    <tr>\n",
       "      <th>6</th>\n",
       "      <td>NaN</td>\n",
       "      <td>NaN</td>\n",
       "      <td>NaN</td>\n",
       "    </tr>\n",
       "    <tr>\n",
       "      <th>7</th>\n",
       "      <td>NaN</td>\n",
       "      <td>NaN</td>\n",
       "      <td>NaN</td>\n",
       "    </tr>\n",
       "    <tr>\n",
       "      <th>8</th>\n",
       "      <td>http://</td>\n",
       "      <td>firstround.com</td>\n",
       "      <td>review/shims-jigs-and-other-woodworking-concep...</td>\n",
       "    </tr>\n",
       "    <tr>\n",
       "      <th>9</th>\n",
       "      <td>http://</td>\n",
       "      <td>www.southpolestation.com</td>\n",
       "      <td>trivia/igy1/appendix.html</td>\n",
       "    </tr>\n",
       "    <tr>\n",
       "      <th>10</th>\n",
       "      <td>http://</td>\n",
       "      <td>techcrunch.com</td>\n",
       "      <td>2016/03/15/crate-raises-4m-seed-round-for-its-...</td>\n",
       "    </tr>\n",
       "    <tr>\n",
       "      <th>11</th>\n",
       "      <td>http://</td>\n",
       "      <td>evonomics.com</td>\n",
       "      <td>advertising-cannot-maintain-internet-heres-sol...</td>\n",
       "    </tr>\n",
       "    <tr>\n",
       "      <th>12</th>\n",
       "      <td>https://</td>\n",
       "      <td>medium.com</td>\n",
       "      <td>@loorinm/coding-is-over-6d653abe8da8</td>\n",
       "    </tr>\n",
       "    <tr>\n",
       "      <th>13</th>\n",
       "      <td>https://</td>\n",
       "      <td>iot.seeed.cc</td>\n",
       "      <td></td>\n",
       "    </tr>\n",
       "    <tr>\n",
       "      <th>14</th>\n",
       "      <td>http://</td>\n",
       "      <td>www.bfilipek.com</td>\n",
       "      <td>2016/04/custom-deleters-for-c-smart-pointers.html</td>\n",
       "    </tr>\n",
       "    <tr>\n",
       "      <th>15</th>\n",
       "      <td>NaN</td>\n",
       "      <td>NaN</td>\n",
       "      <td>NaN</td>\n",
       "    </tr>\n",
       "    <tr>\n",
       "      <th>16</th>\n",
       "      <td>http://</td>\n",
       "      <td>beta.crowdfireapp.com</td>\n",
       "      <td>?beta=agnipath</td>\n",
       "    </tr>\n",
       "    <tr>\n",
       "      <th>17</th>\n",
       "      <td>NaN</td>\n",
       "      <td>NaN</td>\n",
       "      <td>NaN</td>\n",
       "    </tr>\n",
       "    <tr>\n",
       "      <th>18</th>\n",
       "      <td>https://</td>\n",
       "      <td>www.bostonglobe.com</td>\n",
       "      <td>magazine/2015/12/29/years-later-did-big-dig-de...</td>\n",
       "    </tr>\n",
       "    <tr>\n",
       "      <th>19</th>\n",
       "      <td>https://</td>\n",
       "      <td>www.valid.ly</td>\n",
       "      <td></td>\n",
       "    </tr>\n",
       "    <tr>\n",
       "      <th>20</th>\n",
       "      <td>http://</td>\n",
       "      <td>apod.nasa.gov</td>\n",
       "      <td>apod/astropix.html</td>\n",
       "    </tr>\n",
       "    <tr>\n",
       "      <th>21</th>\n",
       "      <td>http://</td>\n",
       "      <td>typeplate.com</td>\n",
       "      <td></td>\n",
       "    </tr>\n",
       "    <tr>\n",
       "      <th>22</th>\n",
       "      <td>NaN</td>\n",
       "      <td>NaN</td>\n",
       "      <td>NaN</td>\n",
       "    </tr>\n",
       "    <tr>\n",
       "      <th>23</th>\n",
       "      <td>http://</td>\n",
       "      <td>techcrunch.com</td>\n",
       "      <td>2015/12/10/streamroot-makes-video-streaming-ch...</td>\n",
       "    </tr>\n",
       "    <tr>\n",
       "      <th>24</th>\n",
       "      <td>http://</td>\n",
       "      <td>techcrunch.com</td>\n",
       "      <td>2016/01/26/vmware-confirms-layoffs-in-earnings...</td>\n",
       "    </tr>\n",
       "    <tr>\n",
       "      <th>25</th>\n",
       "      <td>http://</td>\n",
       "      <td>www.pcworld.com</td>\n",
       "      <td>article/3091104/firmware-exploit-can-defeat-ne...</td>\n",
       "    </tr>\n",
       "    <tr>\n",
       "      <th>26</th>\n",
       "      <td>http://</td>\n",
       "      <td>marcusvorwaller.com</td>\n",
       "      <td>blog/2015/12/14/personal-knowledgebases/</td>\n",
       "    </tr>\n",
       "    <tr>\n",
       "      <th>27</th>\n",
       "      <td>http://</td>\n",
       "      <td>www.usr.com</td>\n",
       "      <td>en/products/networking-taps/</td>\n",
       "    </tr>\n",
       "    <tr>\n",
       "      <th>28</th>\n",
       "      <td>https://</td>\n",
       "      <td>blog.ycombinator.com</td>\n",
       "      <td>fundraising-advice-for-yc-companies</td>\n",
       "    </tr>\n",
       "    <tr>\n",
       "      <th>29</th>\n",
       "      <td>https://</td>\n",
       "      <td>communities.intel.com</td>\n",
       "      <td>thread/96038</td>\n",
       "    </tr>\n",
       "    <tr>\n",
       "      <th>...</th>\n",
       "      <td>...</td>\n",
       "      <td>...</td>\n",
       "      <td>...</td>\n",
       "    </tr>\n",
       "    <tr>\n",
       "      <th>20070</th>\n",
       "      <td>https://</td>\n",
       "      <td>github.com</td>\n",
       "      <td>herkyl/ingredients-parser</td>\n",
       "    </tr>\n",
       "    <tr>\n",
       "      <th>20071</th>\n",
       "      <td>http://</td>\n",
       "      <td>host.madison.com</td>\n",
       "      <td>wsj/news/local/uw-engineering-phd-student-who-...</td>\n",
       "    </tr>\n",
       "    <tr>\n",
       "      <th>20072</th>\n",
       "      <td>https://</td>\n",
       "      <td>www.yahoo.com</td>\n",
       "      <td>tech/apple-s-amazing-new-music-134702380626744...</td>\n",
       "    </tr>\n",
       "    <tr>\n",
       "      <th>20073</th>\n",
       "      <td>http://</td>\n",
       "      <td>qz.com</td>\n",
       "      <td>657246/airbnb-just-acquired-a-team-of-bitcoin-...</td>\n",
       "    </tr>\n",
       "    <tr>\n",
       "      <th>20074</th>\n",
       "      <td>http://</td>\n",
       "      <td>www.roadandtrack.com</td>\n",
       "      <td>car-culture/a26859/bob-lutz-tesla/</td>\n",
       "    </tr>\n",
       "    <tr>\n",
       "      <th>20075</th>\n",
       "      <td>http://</td>\n",
       "      <td>darek.dk</td>\n",
       "      <td>2016/05/29/an-experiment-with-github-pages-jek...</td>\n",
       "    </tr>\n",
       "    <tr>\n",
       "      <th>20076</th>\n",
       "      <td>http://</td>\n",
       "      <td>www.popphoto.com</td>\n",
       "      <td>tips-pro-microscopic-photography</td>\n",
       "    </tr>\n",
       "    <tr>\n",
       "      <th>20077</th>\n",
       "      <td>http://</td>\n",
       "      <td>www.vox.com</td>\n",
       "      <td>business-and-finance/2015/12/15/10161100/brian...</td>\n",
       "    </tr>\n",
       "    <tr>\n",
       "      <th>20078</th>\n",
       "      <td>http://</td>\n",
       "      <td>www.eecs.berkeley.edu</td>\n",
       "      <td>Pubs/TechRpts/2016/EECS-2016-130.html</td>\n",
       "    </tr>\n",
       "    <tr>\n",
       "      <th>20079</th>\n",
       "      <td>http://</td>\n",
       "      <td>www.wsj.com</td>\n",
       "      <td>articles/u-s-judge-rejects-ubers-proposed-100-...</td>\n",
       "    </tr>\n",
       "    <tr>\n",
       "      <th>20080</th>\n",
       "      <td>http://</td>\n",
       "      <td>evanhahn.github.io</td>\n",
       "      <td>English-text-highlighting/</td>\n",
       "    </tr>\n",
       "    <tr>\n",
       "      <th>20081</th>\n",
       "      <td>http://</td>\n",
       "      <td>www.fastcompany.com</td>\n",
       "      <td>3060811/most-creative-people/the-geek-behind-g...</td>\n",
       "    </tr>\n",
       "    <tr>\n",
       "      <th>20082</th>\n",
       "      <td>http://</td>\n",
       "      <td>www.90percentofeverything.com</td>\n",
       "      <td>2012/08/28/usenet-what-have-you-become/</td>\n",
       "    </tr>\n",
       "    <tr>\n",
       "      <th>20083</th>\n",
       "      <td>http://</td>\n",
       "      <td>www.nytimes.com</td>\n",
       "      <td>2006/12/09/us/09cemetery.html</td>\n",
       "    </tr>\n",
       "    <tr>\n",
       "      <th>20084</th>\n",
       "      <td>https://</td>\n",
       "      <td>www.washingtonpost.com</td>\n",
       "      <td>world/asia_pacific/in-chinas-tibetan-highlands...</td>\n",
       "    </tr>\n",
       "    <tr>\n",
       "      <th>20085</th>\n",
       "      <td>https://</td>\n",
       "      <td>medium.com</td>\n",
       "      <td>@lorenzogotuned/applying-some-good-open-source...</td>\n",
       "    </tr>\n",
       "    <tr>\n",
       "      <th>20086</th>\n",
       "      <td>http://</td>\n",
       "      <td>www.huffingtonpost.com</td>\n",
       "      <td>bhagwan-chowdry/i-shall-happily-accept-th_b_84...</td>\n",
       "    </tr>\n",
       "    <tr>\n",
       "      <th>20087</th>\n",
       "      <td>https://</td>\n",
       "      <td>bugs.debian.org</td>\n",
       "      <td>cgi-bin/bugreport.cgi?bug=819703#425</td>\n",
       "    </tr>\n",
       "    <tr>\n",
       "      <th>20088</th>\n",
       "      <td>http://</td>\n",
       "      <td>professional</td>\n",
       "      <td>-troublemaker.com/2015/12/24/corbett-sues-tsa-...</td>\n",
       "    </tr>\n",
       "    <tr>\n",
       "      <th>20089</th>\n",
       "      <td>https://</td>\n",
       "      <td>medium.com</td>\n",
       "      <td>@sktgthill/i-have-10-000-dollars-in-my-bank-ac...</td>\n",
       "    </tr>\n",
       "    <tr>\n",
       "      <th>20090</th>\n",
       "      <td>https://</td>\n",
       "      <td>zakird.com</td>\n",
       "      <td>papers/usb.pdf</td>\n",
       "    </tr>\n",
       "    <tr>\n",
       "      <th>20091</th>\n",
       "      <td>https://</td>\n",
       "      <td>www.visualstudio.com</td>\n",
       "      <td>products/how-to-buy-vs</td>\n",
       "    </tr>\n",
       "    <tr>\n",
       "      <th>20092</th>\n",
       "      <td>https://</td>\n",
       "      <td>www.youtube.com</td>\n",
       "      <td>watch?v=_ZBKX-6Gz6A</td>\n",
       "    </tr>\n",
       "    <tr>\n",
       "      <th>20093</th>\n",
       "      <td>http://</td>\n",
       "      <td>motherboard.vice.com</td>\n",
       "      <td>read/i-built-a-botnet-that-could-destroy-spoti...</td>\n",
       "    </tr>\n",
       "    <tr>\n",
       "      <th>20094</th>\n",
       "      <td>http://</td>\n",
       "      <td>phys.org</td>\n",
       "      <td>news/2015-11-big-quantum.html</td>\n",
       "    </tr>\n",
       "    <tr>\n",
       "      <th>20095</th>\n",
       "      <td>https://</td>\n",
       "      <td>puri.sm</td>\n",
       "      <td>philosophy/how-purism-avoids-intels-active-man...</td>\n",
       "    </tr>\n",
       "    <tr>\n",
       "      <th>20096</th>\n",
       "      <td>https://</td>\n",
       "      <td>medium.com</td>\n",
       "      <td>@zreitano/the-yc-application-broken-down-and-t...</td>\n",
       "    </tr>\n",
       "    <tr>\n",
       "      <th>20097</th>\n",
       "      <td>http://</td>\n",
       "      <td>blog.darknedgy.net</td>\n",
       "      <td>technology/2016/01/01/0/</td>\n",
       "    </tr>\n",
       "    <tr>\n",
       "      <th>20098</th>\n",
       "      <td>https://</td>\n",
       "      <td>medium.com</td>\n",
       "      <td>@benjiwheeler/how-product-hunt-really-works-d8...</td>\n",
       "    </tr>\n",
       "    <tr>\n",
       "      <th>20099</th>\n",
       "      <td>https://</td>\n",
       "      <td>github.com</td>\n",
       "      <td>jmcarp/robobrowser</td>\n",
       "    </tr>\n",
       "  </tbody>\n",
       "</table>\n",
       "<p>20100 rows × 3 columns</p>\n",
       "</div>"
      ],
      "text/plain": [
       "       Protocol                       DomainName  \\\n",
       "0       http://  www.interactivedynamicvideo.com   \n",
       "1       http://                   hueniverse.com   \n",
       "2       http://                  www.thewire.com   \n",
       "3      https://                   www.amazon.com   \n",
       "4       http://                  www.nytimes.com   \n",
       "5       http://                  arstechnica.com   \n",
       "6           NaN                              NaN   \n",
       "7           NaN                              NaN   \n",
       "8       http://                   firstround.com   \n",
       "9       http://         www.southpolestation.com   \n",
       "10      http://                   techcrunch.com   \n",
       "11      http://                    evonomics.com   \n",
       "12     https://                       medium.com   \n",
       "13     https://                     iot.seeed.cc   \n",
       "14      http://                 www.bfilipek.com   \n",
       "15          NaN                              NaN   \n",
       "16      http://            beta.crowdfireapp.com   \n",
       "17          NaN                              NaN   \n",
       "18     https://              www.bostonglobe.com   \n",
       "19     https://                     www.valid.ly   \n",
       "20      http://                    apod.nasa.gov   \n",
       "21      http://                    typeplate.com   \n",
       "22          NaN                              NaN   \n",
       "23      http://                   techcrunch.com   \n",
       "24      http://                   techcrunch.com   \n",
       "25      http://                  www.pcworld.com   \n",
       "26      http://              marcusvorwaller.com   \n",
       "27      http://                      www.usr.com   \n",
       "28     https://             blog.ycombinator.com   \n",
       "29     https://            communities.intel.com   \n",
       "...         ...                              ...   \n",
       "20070  https://                       github.com   \n",
       "20071   http://                 host.madison.com   \n",
       "20072  https://                    www.yahoo.com   \n",
       "20073   http://                           qz.com   \n",
       "20074   http://             www.roadandtrack.com   \n",
       "20075   http://                         darek.dk   \n",
       "20076   http://                 www.popphoto.com   \n",
       "20077   http://                      www.vox.com   \n",
       "20078   http://            www.eecs.berkeley.edu   \n",
       "20079   http://                      www.wsj.com   \n",
       "20080   http://               evanhahn.github.io   \n",
       "20081   http://              www.fastcompany.com   \n",
       "20082   http://    www.90percentofeverything.com   \n",
       "20083   http://                  www.nytimes.com   \n",
       "20084  https://           www.washingtonpost.com   \n",
       "20085  https://                       medium.com   \n",
       "20086   http://           www.huffingtonpost.com   \n",
       "20087  https://                  bugs.debian.org   \n",
       "20088   http://                     professional   \n",
       "20089  https://                       medium.com   \n",
       "20090  https://                       zakird.com   \n",
       "20091  https://             www.visualstudio.com   \n",
       "20092  https://                  www.youtube.com   \n",
       "20093   http://             motherboard.vice.com   \n",
       "20094   http://                         phys.org   \n",
       "20095  https://                          puri.sm   \n",
       "20096  https://                       medium.com   \n",
       "20097   http://               blog.darknedgy.net   \n",
       "20098  https://                       medium.com   \n",
       "20099  https://                       github.com   \n",
       "\n",
       "                                                    Path  \n",
       "0                                                         \n",
       "1      2016/01/26/how-to-use-open-source-and-shut-the...  \n",
       "2      entertainment/2013/04/florida-djs-april-fools-...  \n",
       "3      Technology-Ventures-Enterprise-Thomas-Byers/dp...  \n",
       "4                    2007/11/07/movies/07stein.html?_r=0  \n",
       "5      business/2015/10/comcast-and-other-isps-boost-...  \n",
       "6                                                    NaN  \n",
       "7                                                    NaN  \n",
       "8      review/shims-jigs-and-other-woodworking-concep...  \n",
       "9                              trivia/igy1/appendix.html  \n",
       "10     2016/03/15/crate-raises-4m-seed-round-for-its-...  \n",
       "11     advertising-cannot-maintain-internet-heres-sol...  \n",
       "12                  @loorinm/coding-is-over-6d653abe8da8  \n",
       "13                                                        \n",
       "14     2016/04/custom-deleters-for-c-smart-pointers.html  \n",
       "15                                                   NaN  \n",
       "16                                        ?beta=agnipath  \n",
       "17                                                   NaN  \n",
       "18     magazine/2015/12/29/years-later-did-big-dig-de...  \n",
       "19                                                        \n",
       "20                                    apod/astropix.html  \n",
       "21                                                        \n",
       "22                                                   NaN  \n",
       "23     2015/12/10/streamroot-makes-video-streaming-ch...  \n",
       "24     2016/01/26/vmware-confirms-layoffs-in-earnings...  \n",
       "25     article/3091104/firmware-exploit-can-defeat-ne...  \n",
       "26              blog/2015/12/14/personal-knowledgebases/  \n",
       "27                          en/products/networking-taps/  \n",
       "28                   fundraising-advice-for-yc-companies  \n",
       "29                                          thread/96038  \n",
       "...                                                  ...  \n",
       "20070                          herkyl/ingredients-parser  \n",
       "20071  wsj/news/local/uw-engineering-phd-student-who-...  \n",
       "20072  tech/apple-s-amazing-new-music-134702380626744...  \n",
       "20073  657246/airbnb-just-acquired-a-team-of-bitcoin-...  \n",
       "20074                 car-culture/a26859/bob-lutz-tesla/  \n",
       "20075  2016/05/29/an-experiment-with-github-pages-jek...  \n",
       "20076                   tips-pro-microscopic-photography  \n",
       "20077  business-and-finance/2015/12/15/10161100/brian...  \n",
       "20078              Pubs/TechRpts/2016/EECS-2016-130.html  \n",
       "20079  articles/u-s-judge-rejects-ubers-proposed-100-...  \n",
       "20080                         English-text-highlighting/  \n",
       "20081  3060811/most-creative-people/the-geek-behind-g...  \n",
       "20082            2012/08/28/usenet-what-have-you-become/  \n",
       "20083                      2006/12/09/us/09cemetery.html  \n",
       "20084  world/asia_pacific/in-chinas-tibetan-highlands...  \n",
       "20085  @lorenzogotuned/applying-some-good-open-source...  \n",
       "20086  bhagwan-chowdry/i-shall-happily-accept-th_b_84...  \n",
       "20087               cgi-bin/bugreport.cgi?bug=819703#425  \n",
       "20088  -troublemaker.com/2015/12/24/corbett-sues-tsa-...  \n",
       "20089  @sktgthill/i-have-10-000-dollars-in-my-bank-ac...  \n",
       "20090                                     papers/usb.pdf  \n",
       "20091                             products/how-to-buy-vs  \n",
       "20092                                watch?v=_ZBKX-6Gz6A  \n",
       "20093  read/i-built-a-botnet-that-could-destroy-spoti...  \n",
       "20094                      news/2015-11-big-quantum.html  \n",
       "20095  philosophy/how-purism-avoids-intels-active-man...  \n",
       "20096  @zreitano/the-yc-application-broken-down-and-t...  \n",
       "20097                           technology/2016/01/01/0/  \n",
       "20098  @benjiwheeler/how-product-hunt-really-works-d8...  \n",
       "20099                                 jmcarp/robobrowser  \n",
       "\n",
       "[20100 rows x 3 columns]"
      ]
     },
     "execution_count": 24,
     "metadata": {},
     "output_type": "execute_result"
    }
   ],
   "source": [
    "pattern = r\"(?P<Protocol>https?://)(?P<DomainName>[\\w\\.]+)/?(?P<Path>.*)\"\n",
    "url.str.extract(pattern, flags= re.I)"
   ]
  },
  {
   "cell_type": "code",
   "execution_count": null,
   "metadata": {},
   "outputs": [],
   "source": []
  },
  {
   "cell_type": "code",
   "execution_count": 25,
   "metadata": {},
   "outputs": [
    {
     "data": {
      "text/plain": [
       "http://aioptify.com/top-software-books.php?utm_source=hackernews&utm_medium=cpm&utm_campaign=topsoftwarebooks                      3\n",
       "http://arstechnica.com/tech-policy/2015/09/fbi-intel-chiefs-decry-deep-cynicism-over-cyber-spying-programs/                        3\n",
       "https://blog.cloudflare.com/a-winter-of-400gbps-weekend-ddos-attacks/                                                              3\n",
       "https://theintercept.com/2016/06/28/he-was-a-hacker-for-the-nsa-and-he-was-willing-to-talk-i-was-willing-to-listen/                3\n",
       "https://www.ftc.gov/news-events/blogs/techftc/2016/03/time-rethink-mandatory-password-changes                                      3\n",
       "http://sethgodin.typepad.com/seths_blog/2015/09/ad-blocking.html                                                                   3\n",
       "http://qz.com/680661/germany-had-so-much-renewable-energy-on-sunday-that-it-had-to-pay-people-to-use-electricity/                  2\n",
       "http://www.nytimes.com/2016/09/02/upshot/new-geography-of-prisons.html                                                             2\n",
       "http://ruslanspivak.com/lsbasi-part4/                                                                                              2\n",
       "http://www.wired.com/2015/12/mozilla-is-flailing-when-the-web-needs-it-the-most/                                                   2\n",
       "http://255.wf/2016-09-18-mass-analyzing-a-chunk-of-the-internet/                                                                   2\n",
       "http://blog.beepnetworks.com/2016/09/loras-wireless-range-is-bananas-a-first-look-at-cellular-for-iot-in-san-francisco/            2\n",
       "https://www.oreilly.com/ideas/the-critical-role-of-systems-thinking-in-software-development                                        2\n",
       "https://4usxus.com                                                                                                                 2\n",
       "http://www.nytimes.com/2016/01/31/books/review/the-powers-that-were.html                                                           2\n",
       "https://www.keepassx.org/news/2015/12/533                                                                                          2\n",
       "http://arstechnica.com/the-multiverse/2016/06/an-ai-wrote-this-movie-and-its-strangely-moving/                                     2\n",
       "https://seafile.de/en/important-infos-about-app-seafile-de-and-licensing-purchases-through-our-web-shops/                          2\n",
       "http://hck.re/NVhYnG                                                                                                               2\n",
       "http://joshworth.com/dev/pixelspace/pixelspace_solarsystem.html                                                                    2\n",
       "https://vulners.com                                                                                                                2\n",
       "https://www.mail-archive.com/python-dev@python.org/msg92676.html                                                                   2\n",
       "http://www.nytimes.com/2016/02/14/us/hospital-guns-mental-health.html                                                              2\n",
       "http://www.wsj.com/articles/calculus-is-so-last-century-1457132991                                                                 2\n",
       "http://www.recode.net/2016/5/13/11592570/china-startup-tech-economy-silicon-valley                                                 2\n",
       "http://releases.ubuntu.com/16.04/                                                                                                  2\n",
       "https://www.passbolt.com/                                                                                                          2\n",
       "http://www.forbes.com/sites/stevensalzberg/2015/10/11/get-football-out-of-our-universities-take-it-private/                        2\n",
       "http://arstechnica.com/tech-policy/2015/11/beware-of-ads-that-use-inaudible-sound-to-link-your-phone-tv-tablet-and-pc/             2\n",
       "http://www.nytimes.com/2016/01/12/opinion/brazils-digital-backlash.html                                                            2\n",
       "                                                                                                                                  ..\n",
       "https://yourbuttons.com/                                                                                                           1\n",
       "http://www.vox.com/2014/5/29/5758542/time-for-the-US-to-use-the-metric-system                                                      1\n",
       "http://www.npr.org/sections/alltechconsidered/2016/08/08/487291905/why-taylor-swift-is-asking-congress-to-update-copyright-laws    1\n",
       "http://www.theatlantic.com/international/archive/2015/10/russia-geography-ukraine-syria/413248/?single_page=true                   1\n",
       "http://www.businessinsider.com/big-tech-investors-sure-seem-to-be-getting-defensive-lately-2015-9                                  1\n",
       "http://motherboard.vice.com/read/china-wants-to-build-a-deep-sea-space-station                                                     1\n",
       "http://shanghaiist.com/2016/08/05/straddling_bus_scam.php                                                                          1\n",
       "http://www.abc.net.au/news/2015-12-16/star-wars-every-scene/7013826                                                                1\n",
       "https://www.openaire.eu/france-final-text-of-the-law-for-oa-has-been-adopted                                                       1\n",
       "http://blog.docker.com/2015/10/docker-acquires-tutum/                                                                              1\n",
       "https://lacke.mn/reduce-your-bundle-js-file-size/                                                                                  1\n",
       "http://arstechnica.com/security/2016/08/microsoft-secure-boot-firmware-snafu-leaks-golden-key/                                     1\n",
       "http://arxiv.org/abs/1203.1895                                                                                                     1\n",
       "http://www.dddmag.com/articles/2015/04/strong-link-found-between-dementia-common-anticholinergic-drugs                             1\n",
       "http://withoutbullshit.com/blog/finimize-common-sense-financial-writing/                                                           1\n",
       "https://github.com/seletskiy/hastur                                                                                                1\n",
       "https://getmondo.co.uk/blog/2016/03/03/crowdfunded/                                                                                1\n",
       "https://theconversation.com/american-medical-association-warns-of-health-and-safety-problems-from-white-led-streetlights-61191     1\n",
       "http://mattdesl.svbtle.com/codevember                                                                                              1\n",
       "http://adityatannu.com/blog/post/2016/01/31/ESP8266-Witty-Cloud-Board-Demo.html                                                    1\n",
       "http://www.themacro.com/articles/2016/04/meadow-interview/                                                                         1\n",
       "http://america.joshuasnider.com                                                                                                    1\n",
       "https://harpers.org/archive/1941/08/who-goes-nazi/?single=1                                                                        1\n",
       "https://lwn.net/Articles/697191/                                                                                                   1\n",
       "https://bazaarvoice.github.io/emodb/                                                                                               1\n",
       "https://www.washingtonpost.com/blogs/govbeat/wp/2014/03/03/watch-the-united-states-grow-before-your-eyes/                          1\n",
       "http://nautil.us/blog/dolphins-are-helping-us-hunt-for-aliens                                                                      1\n",
       "http://mikethemadbiologist.com/2015/12/31/deferred-in-the-burbs/                                                                   1\n",
       "http://martinfowler.com/bliki/BoiledCarrot.html                                                                                    1\n",
       "http://www.reuters.com/article/us-amazon-com-music-exclusive-idUSKCN0YW28U                                                         1\n",
       "Name: url, Length: 17481, dtype: int64"
      ]
     },
     "execution_count": 25,
     "metadata": {},
     "output_type": "execute_result"
    }
   ],
   "source": [
    "url.value_counts()"
   ]
  },
  {
   "cell_type": "code",
   "execution_count": 35,
   "metadata": {},
   "outputs": [
    {
     "data": {
      "text/plain": [
       "video     178\n",
       "Video      51\n",
       "videos     21\n",
       "Videos     14\n",
       "Name: 0, dtype: int64"
      ]
     },
     "execution_count": 35,
     "metadata": {},
     "output_type": "execute_result"
    }
   ],
   "source": [
    "#Video,video,videos\n",
    "pattern = r\"([Vv]ideos?)\"\n",
    "vid = titles.str.extract(pattern).dropna()\n",
    "vid[0].value_counts()"
   ]
  },
  {
   "cell_type": "code",
   "execution_count": 50,
   "metadata": {},
   "outputs": [
    {
     "data": {
      "text/plain": [
       "email     75\n",
       "Email     57\n",
       "e Mail     5\n",
       "e-mail     5\n",
       "e mail     4\n",
       "E-mail     2\n",
       "E-Mail     1\n",
       "eMail      1\n",
       "EMAIL      1\n",
       "Name: 0, dtype: int64"
      ]
     },
     "execution_count": 50,
     "metadata": {},
     "output_type": "execute_result"
    }
   ],
   "source": [
    "#email, e-mail, e.mail, e mail\n",
    "pattern = r\"([Ee][\\s\\.-]?mail)\"\n",
    "email = titles.str.extract(pattern, flags=re.I).dropna()\n",
    "email[0].value_counts()"
   ]
  },
  {
   "cell_type": "code",
   "execution_count": 46,
   "metadata": {},
   "outputs": [
    {
     "data": {
      "text/plain": [
       "email    151\n",
       "Name: 0, dtype: int64"
      ]
     },
     "execution_count": 46,
     "metadata": {},
     "output_type": "execute_result"
    }
   ],
   "source": [
    "email_s = email[0]\n",
    "email_s = email_s.str.replace(pattern,\"email\",flags = re.I)\n",
    "email_s.value_counts()"
   ]
  },
  {
   "cell_type": "code",
   "execution_count": null,
   "metadata": {},
   "outputs": [],
   "source": []
  }
 ],
 "metadata": {
  "kernelspec": {
   "display_name": "Python 3",
   "language": "python",
   "name": "python3"
  },
  "language_info": {
   "codemirror_mode": {
    "name": "ipython",
    "version": 3
   },
   "file_extension": ".py",
   "mimetype": "text/x-python",
   "name": "python",
   "nbconvert_exporter": "python",
   "pygments_lexer": "ipython3",
   "version": "3.7.3"
  }
 },
 "nbformat": 4,
 "nbformat_minor": 2
}
