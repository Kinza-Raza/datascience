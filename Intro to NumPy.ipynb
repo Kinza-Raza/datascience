{
 "cells": [
  {
   "cell_type": "code",
   "execution_count": 1,
   "metadata": {},
   "outputs": [],
   "source": [
    "import numpy as np \n",
    "from csv import reader"
   ]
  },
  {
   "cell_type": "code",
   "execution_count": 2,
   "metadata": {},
   "outputs": [
    {
     "data": {
      "text/plain": [
       "array([1, 2, 3, 4])"
      ]
     },
     "execution_count": 2,
     "metadata": {},
     "output_type": "execute_result"
    }
   ],
   "source": [
    "l = [1,2,3,4]\n",
    "ar = np.array(l)\n",
    "ar"
   ]
  },
  {
   "cell_type": "code",
   "execution_count": 3,
   "metadata": {},
   "outputs": [
    {
     "data": {
      "text/plain": [
       "array([11, 12, 13, 14])"
      ]
     },
     "execution_count": 3,
     "metadata": {},
     "output_type": "execute_result"
    }
   ],
   "source": [
    "ar + 10"
   ]
  },
  {
   "cell_type": "code",
   "execution_count": 4,
   "metadata": {},
   "outputs": [
    {
     "data": {
      "text/plain": [
       "89560"
      ]
     },
     "execution_count": 4,
     "metadata": {},
     "output_type": "execute_result"
    }
   ],
   "source": [
    "file = open(\"nyc_taxis.csv\", encoding = \"UTF-8\")\n",
    "read = reader(file)\n",
    "taxi = list(read)\n",
    "data = taxi[1:]\n",
    "arr = np.array(data)\n",
    "arr.astype(\"float64\")\n",
    "len(arr) #works on  array but preferable for list"
   ]
  },
  {
   "cell_type": "code",
   "execution_count": 5,
   "metadata": {},
   "outputs": [
    {
     "data": {
      "text/plain": [
       "(89560, 15)"
      ]
     },
     "execution_count": 5,
     "metadata": {},
     "output_type": "execute_result"
    }
   ],
   "source": [
    "rc = arr.shape \n",
    "rc #numpy method which tells us rows and columns"
   ]
  },
  {
   "cell_type": "raw",
   "metadata": {},
   "source": []
  },
  {
   "cell_type": "code",
   "execution_count": 6,
   "metadata": {},
   "outputs": [
    {
     "data": {
      "text/plain": [
       "89560"
      ]
     },
     "execution_count": 6,
     "metadata": {},
     "output_type": "execute_result"
    }
   ],
   "source": [
    "arr.shape[0] #no. of rows"
   ]
  },
  {
   "cell_type": "code",
   "execution_count": 7,
   "metadata": {},
   "outputs": [
    {
     "data": {
      "text/plain": [
       "array(['1', '1', '1', ..., '6', '6', '6'], dtype='<U6')"
      ]
     },
     "execution_count": 7,
     "metadata": {},
     "output_type": "execute_result"
    }
   ],
   "source": [
    "arr[:,1] #on the left of comma; rows. right; columns. indexing/slicing can be done. this indicates all rows, but only first column"
   ]
  },
  {
   "cell_type": "code",
   "execution_count": 8,
   "metadata": {},
   "outputs": [
    {
     "data": {
      "text/plain": [
       "array([['2016', '1', '1', '5', '0', '2', '4', '21.00', '2037', '52.00',\n",
       "        '0.80', '5.54', '11.65', '69.99', '1'],\n",
       "       ['2016', '1', '1', '5', '0', '2', '1', '16.29', '1520', '45.00',\n",
       "        '1.30', '0.00', '8.00', '54.30', '1'],\n",
       "       ['2016', '1', '1', '5', '0', '2', '6', '12.70', '1462', '36.50',\n",
       "        '1.30', '0.00', '0.00', '37.80', '2'],\n",
       "       ['2016', '1', '1', '5', '0', '2', '6', '8.70', '1210', '26.00',\n",
       "        '1.30', '0.00', '5.46', '32.76', '1'],\n",
       "       ['2016', '1', '1', '5', '0', '2', '6', '5.56', '759', '17.50',\n",
       "        '1.30', '0.00', '0.00', '18.80', '2'],\n",
       "       ['2016', '1', '1', '5', '0', '4', '2', '21.45', '2004', '52.00',\n",
       "        '0.80', '0.00', '52.80', '105.60', '1'],\n",
       "       ['2016', '1', '1', '5', '0', '2', '6', '8.45', '927', '24.50',\n",
       "        '1.30', '0.00', '6.45', '32.25', '1'],\n",
       "       ['2016', '1', '1', '5', '0', '2', '6', '7.30', '731', '21.50',\n",
       "        '1.30', '0.00', '0.00', '22.80', '2'],\n",
       "       ['2016', '1', '1', '5', '0', '2', '5', '36.30', '2562', '109.50',\n",
       "        '0.80', '11.08', '10.00', '131.38', '1'],\n",
       "       ['2016', '1', '1', '5', '0', '6', '2', '12.46', '1351', '36.00',\n",
       "        '1.30', '0.00', '0.00', '37.30', '2'],\n",
       "       ['2016', '1', '1', '5', '1', '4', '2', '16.60', '1467', '52.00',\n",
       "        '0.80', '5.54', '0.00', '58.34', '2'],\n",
       "       ['2016', '1', '1', '5', '1', '6', '3', '5.23', '854', '17.00',\n",
       "        '1.30', '0.00', '0.00', '18.30', '2'],\n",
       "       ['2016', '1', '1', '5', '1', '2', '4', '18.06', '1588', '52.00',\n",
       "        '0.80', '5.54', '11.67', '70.01', '1'],\n",
       "       ['2016', '1', '1', '5', '1', '4', '2', '16.30', '1484', '52.00',\n",
       "        '0.80', '5.54', '0.00', '58.34', '2'],\n",
       "       ['2016', '1', '1', '5', '1', '4', '3', '7.97', '815', '23.50',\n",
       "        '1.30', '5.54', '6.07', '36.41', '1'],\n",
       "       ['2016', '1', '1', '5', '1', '4', '3', '12.09', '1265', '33.50',\n",
       "        '1.30', '5.54', '10.08', '50.42', '1'],\n",
       "       ['2016', '1', '1', '5', '1', '2', '4', '17.30', '1588', '52.00',\n",
       "        '0.80', '5.54', '0.00', '58.34', '2'],\n",
       "       ['2016', '1', '1', '5', '1', '2', '1', '13.74', '2304', '42.00',\n",
       "        '1.30', '0.00', '5.00', '48.30', '1'],\n",
       "       ['2016', '1', '1', '5', '1', '4', '2', '17.57', '1654', '52.00',\n",
       "        '0.80', '5.54', '0.00', '58.34', '2'],\n",
       "       ['2016', '1', '1', '5', '1', '4', '3', '9.50', '1299', '28.50',\n",
       "        '1.30', '0.00', '5.96', '35.76', '1']], dtype='<U6')"
      ]
     },
     "execution_count": 8,
     "metadata": {},
     "output_type": "execute_result"
    }
   ],
   "source": [
    "# displaying 0-20 rows\n",
    "arr[0:20]"
   ]
  },
  {
   "cell_type": "code",
   "execution_count": 9,
   "metadata": {},
   "outputs": [
    {
     "data": {
      "text/plain": [
       "20"
      ]
     },
     "execution_count": 9,
     "metadata": {},
     "output_type": "execute_result"
    }
   ],
   "source": [
    "# displaying first three columns of 0-20 rows\n",
    "len(arr[0:20,0:3])"
   ]
  },
  {
   "cell_type": "code",
   "execution_count": 10,
   "metadata": {},
   "outputs": [
    {
     "data": {
      "text/plain": [
       "array([['2016', '1', '1', '5', '0'],\n",
       "       ['2016', '1', '1', '5', '0'],\n",
       "       ['2016', '1', '1', '5', '0'],\n",
       "       ...,\n",
       "       ['2016', '6', '30', '4', '5'],\n",
       "       ['2016', '6', '30', '4', '5'],\n",
       "       ['2016', '6', '30', '4', '5']], dtype='<U6')"
      ]
     },
     "execution_count": 10,
     "metadata": {},
     "output_type": "execute_result"
    }
   ],
   "source": [
    "# displaying first 5 columns\n",
    "arr[:,0:5]"
   ]
  },
  {
   "cell_type": "code",
   "execution_count": 11,
   "metadata": {},
   "outputs": [],
   "source": [
    "length = arr[:,8] #retrieves all rows of particular column; trip length"
   ]
  },
  {
   "cell_type": "code",
   "execution_count": 12,
   "metadata": {},
   "outputs": [
    {
     "data": {
      "text/plain": [
       "array([0.56583333, 0.42222222, 0.40611111, ..., 0.78388889, 0.30083333,\n",
       "       0.47527778])"
      ]
     },
     "execution_count": 12,
     "metadata": {},
     "output_type": "execute_result"
    }
   ],
   "source": [
    "#converting seconds into hour\n",
    "lengthf = length.astype(\"float64\")\n",
    "length_hr = lengthf/3600\n",
    "length_hr"
   ]
  },
  {
   "cell_type": "code",
   "execution_count": 13,
   "metadata": {},
   "outputs": [
    {
     "data": {
      "text/plain": [
       "array([37.11340206, 38.58157895, 31.27222982, ..., 22.29907867,\n",
       "       42.41551247, 36.90473407])"
      ]
     },
     "execution_count": 13,
     "metadata": {},
     "output_type": "execute_result"
    }
   ],
   "source": [
    "#calculating speed in miles per hour\n",
    "miles = arr[:,7]\n",
    "milesf = miles.astype(\"float64\")\n",
    "miles_per_hour = milesf/length_hr\n",
    "miles_per_hour"
   ]
  },
  {
   "cell_type": "code",
   "execution_count": 14,
   "metadata": {},
   "outputs": [
    {
     "data": {
      "text/plain": [
       "32.24258580925637"
      ]
     },
     "execution_count": 14,
     "metadata": {},
     "output_type": "execute_result"
    }
   ],
   "source": [
    "mean_miles = sum(miles_per_hour)/len(miles_per_hour)\n",
    "mean_miles"
   ]
  },
  {
   "cell_type": "code",
   "execution_count": 15,
   "metadata": {},
   "outputs": [
    {
     "data": {
      "text/plain": [
       "32.24258580925573"
      ]
     },
     "execution_count": 15,
     "metadata": {},
     "output_type": "execute_result"
    }
   ],
   "source": [
    "meanmph = miles_per_hour.mean() #numpy has mean function which saves from summing and division\n",
    "meanmph"
   ]
  },
  {
   "cell_type": "code",
   "execution_count": 16,
   "metadata": {},
   "outputs": [],
   "source": []
  },
  {
   "cell_type": "code",
   "execution_count": 17,
   "metadata": {},
   "outputs": [
    {
     "data": {
      "text/plain": [
       "0.0"
      ]
     },
     "execution_count": 17,
     "metadata": {},
     "output_type": "execute_result"
    }
   ],
   "source": [
    "miles_per_hour.max()\n",
    "miles_per_hour.min()"
   ]
  },
  {
   "cell_type": "code",
   "execution_count": 18,
   "metadata": {},
   "outputs": [
    {
     "data": {
      "text/plain": [
       "4385436.08"
      ]
     },
     "execution_count": 18,
     "metadata": {},
     "output_type": "execute_result"
    }
   ],
   "source": [
    "#summing columns 9-12 to give result equal to column 13\n",
    "a = arr[:,9]\n",
    "b = arr[:,10]\n",
    "c = arr[:,11]\n",
    "d = arr[:,12]\n",
    "af = a.astype(\"float64\")\n",
    "bf = b.astype(\"float64\")\n",
    "cf = c.astype(\"float64\")\n",
    "df = d.astype(\"float64\")\n",
    "total = af + bf + cf + df\n",
    "totalsum = total.sum()\n",
    "totalsum\n"
   ]
  },
  {
   "cell_type": "code",
   "execution_count": 49,
   "metadata": {},
   "outputs": [
    {
     "data": {
      "text/plain": [
       "4385454.29"
      ]
     },
     "execution_count": 49,
     "metadata": {},
     "output_type": "execute_result"
    }
   ],
   "source": [
    "totalamount = arr[:,13]\n",
    "totalamount = totalamount.astype(\"float64\")\n",
    "totalamount.sum()"
   ]
  },
  {
   "cell_type": "code",
   "execution_count": null,
   "metadata": {},
   "outputs": [],
   "source": []
  }
 ],
 "metadata": {
  "kernelspec": {
   "display_name": "Python 3",
   "language": "python",
   "name": "python3"
  },
  "language_info": {
   "codemirror_mode": {
    "name": "ipython",
    "version": 3
   },
   "file_extension": ".py",
   "mimetype": "text/x-python",
   "name": "python",
   "nbconvert_exporter": "python",
   "pygments_lexer": "ipython3",
   "version": "3.7.3"
  }
 },
 "nbformat": 4,
 "nbformat_minor": 2
}
